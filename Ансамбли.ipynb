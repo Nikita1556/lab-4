{
 "cells": [
  {
   "cell_type": "markdown",
   "id": "3085ec43-34bb-4afb-9515-517e0489db3e",
   "metadata": {},
   "source": [
    "## Ансамбли и полносвязные нейронные сети\n",
    "В этом ноутбуке вам нужно обучить модели на датасете классификации из предыдущего ноутбука и сравнить результаты. Вам будет предоставлен baseline, на основе которого вы будете доделывать предсказывающие модели. Оценка лабы будет зависеть от ROC-AUC на тестовых данных по следующим критериям:\n",
    "\\\n",
    "AUC - на тестовых данных\n",
    "- $AUC \\leq 0.76$ - 0 баллов\n",
    "- $0.76 < AUC \\leq 0.77$ - 2 балла\n",
    "- $0.77 < AUC \\leq 0.78$ - 4 балла\n",
    "- $0.78 < AUC \\leq 0.79$ - 6 баллов\n",
    "- $0.79 < AUC \\leq 0.80$ - 8 баллов\n",
    "- $AUC > 0.80$ - 10 баллов\n"
   ]
  },
  {
   "cell_type": "code",
   "execution_count": null,
   "id": "ec07e3a2-480a-4350-868e-02679ff2aada",
   "metadata": {
    "tags": []
   },
   "outputs": [],
   "source": [
    "from sklearn.ensemble import RandomForestClassifier, GradientBoostingClassifier\n",
    "from sklearn.neural_network import MLPClassifier\n",
    "from sklearn.metrics import roc_auc_score, accuracy_score, precision_score, recall_score\n",
    "from sklearn.model_selection import train_test_split, GridSearchCV\n",
    "import matplotlib.pyplot as plt\n",
    "import pandas as pd\n",
    "import numpy as np"
   ]
  },
  {
   "cell_type": "code",
   "execution_count": null,
   "id": "563ad31b-5c83-4366-819a-34dad4edecdc",
   "metadata": {
    "tags": []
   },
   "outputs": [],
   "source": [
    "# Загрузка данных\n",
    "data = pd.read_csv('german.csv', sep=';')  # Загрузка датасета из CSV файла\n",
    "print(data.head())  # Вывод первых нескольких строк датасета для предварительного просмотра\n",
    "\n",
    "# Определение признаков и целевой переменной\n",
    "X = data.iloc[:, 1:].to_numpy()  # Все столбцы, кроме первого, используются как признаки\n",
    "y = data.iloc[:, 0].to_numpy()  # Первый столбец используется как целевая переменная\n",
    "\n",
    "# Разделение данных на обучающую и тестовую выборки\n",
    "X_train, X_test, y_train, y_test = train_test_split(X, y, test_size=0.2, random_state=42)\n",
    "# Данные разделяются на 80% для обучения и 20% для тестирования, с фиксированным случайным состоянием для воспроизводимости"
   ]
  },
  {
   "cell_type": "code",
   "execution_count": null,
   "id": "f93737ec-e5eb-4d72-8beb-5dba4d4c581f",
   "metadata": {
    "tags": []
   },
   "outputs": [],
   "source": [
    "# Визуализация распределения классов\n",
    "plt.hist(y_train, bins=2, edgecolor='k')  # Гистограмма для визуализации распределения классов\n",
    "plt.xticks([0, 1])  # Установка меток по оси X\n",
    "plt.xlabel('Class (0: Non-Creditworthy, 1: Creditworthy)')  # Подпись оси X\n",
    "plt.ylabel('Count')  # Подпись оси Y\n",
    "plt.title('Distribution of Classes in Training Data')  # Заголовок графика\n",
    "plt.show()  # Показ графика"
   ]
  },
  {
   "cell_type": "code",
   "execution_count": null,
   "id": "c1cf8d00-92a3-4b62-bca4-d854b72574d1",
   "metadata": {
    "tags": []
   },
   "outputs": [],
   "source": [
    "# Определение функции для оценки моделей\n",
    "def evaluate_model(model, X_train, y_train, X_test, y_test):\n",
    "    model.fit(X_train, y_train)  # Обучение модели на обучающей выборке\n",
    "    y_pred = model.predict(X_test)  # Прогнозирование на тестовой выборке\n",
    "    \n",
    "    # Вычисление различных метрик\n",
    "    roc_auc = roc_auc_score(y_test, y_pred)  # ROC AUC\n",
    "    accuracy = accuracy_score(y_test, y_pred)  # Точность\n",
    "    precision = precision_score(y_test, y_pred)  # Полнота\n",
    "    recall = recall_score(y_test, y_pred)  # Признак\n",
    "    \n",
    "    return roc_auc, accuracy, precision, recall  # Возврат всех метрик\n",
    "\n",
    "# Baseline модели\n",
    "baseline_rf = RandomForestClassifier(n_estimators=100, random_state=42)  # Базовая модель Random Forest\n",
    "baseline_gb = GradientBoostingClassifier(n_estimators=100, random_state=42)  # Базовая модель Gradient Boosting\n",
    "baseline_mlp = MLPClassifier(hidden_layer_sizes=(30,), max_iter=500, random_state=42)  # Базовая модель MLP\n",
    "\n",
    "# Оценка базовых моделей\n",
    "models = {\n",
    "    \"Random Forest\": baseline_rf,\n",
    "    \"Gradient Boosting\": baseline_gb,\n",
    "    \"MLP\": baseline_mlp\n",
    "}\n",
    "\n",
    "results = {}  # Словарь для хранения результатов\n",
    "\n",
    "# Цикл по всем моделям для их оценки\n",
    "for model_name, model in models.items():\n",
    "    roc_auc, accuracy, precision, recall = evaluate_model(model, X_train, y_train, X_test, y_test)  # Оценка модели\n",
    "    results[model_name] = {  # Сохранение результатов\n",
    "        \"ROC AUC\": roc_auc,\n",
    "        \"Accuracy\": accuracy,\n",
    "        \"Precision\": precision,\n",
    "        \"Recall\": recall\n",
    "    }\n",
    "\n",
    "# Вывод результатов базовых моделей\n",
    "for model_name, metrics in results.items():\n",
    "    print(f\"{model_name} метрики:\")  # Заголовок для каждой модели\n",
    "    for metric_name, value in metrics.items():\n",
    "        print(f\"{metric_name}: {value:.2f}\")  # Печать метрик с округлением до двух знаков\n",
    "    print()  # Пустая строка для разделения выводов\n"
   ]
  },
  {
   "cell_type": "code",
   "execution_count": null,
   "id": "ae1e040c-ddd0-4952-9dcb-58c1226da40a",
   "metadata": {
    "tags": []
   },
   "outputs": [],
   "source": [
    "# Оптимизация моделей с помощью GridSearchCV\n",
    "param_grid_rf = {  # Параметры для Random Forest\n",
    "    'n_estimators': [100, 200],  # Количество деревьев\n",
    "    'max_depth': [None, 10, 20],  # Максимальная глубина деревьев\n",
    "    'min_samples_split': [2, 5]  # Минимальное количество образцов для разделения\n",
    "}\n",
    "\n",
    "param_grid_gb = {  # Параметры для Gradient Boosting\n",
    "    'n_estimators': [100, 200],  # Количество деревьев\n",
    "    'learning_rate': [0.01, 0.1],  # Скорость обучения\n",
    "    'max_depth': [3, 5, 7]  # Максимальная глубина деревьев\n",
    "}\n",
    "\n",
    "param_grid_mlp = {  # Параметры для MLP\n",
    "    'hidden_layer_sizes': [(30,), (50,), (100,)],  # Размеры скрытых слоев\n",
    "    'max_iter': [500, 1000]  # Максимальное количество итераций\n",
    "}\n",
    "\n",
    "# Поиск лучших параметров для Random Forest\n",
    "grid_rf = GridSearchCV(RandomForestClassifier(random_state=42), param_grid_rf, cv=5, scoring='roc_auc')  # Инициализация GridSearchCV\n",
    "grid_rf.fit(X_train, y_train)  # Обучение с использованием кросс-валидации\n",
    "best_rf = grid_rf.best_estimator_  # Получение лучшей модели\n",
    "\n",
    "# Поиск лучших параметров для Gradient Boosting\n",
    "grid_gb = GridSearchCV(GradientBoostingClassifier(random_state=42), param_grid_gb, cv=5, scoring='roc_auc')  # Инициализация GridSearchCV\n",
    "grid_gb.fit(X_train, y_train)  # Обучение\n",
    "best_gb = grid_gb.best_estimator_  # Получение лучшей модели\n",
    "\n",
    "# Поиск лучших параметров для MLP\n",
    "grid_mlp = GridSearchCV(MLPClassifier(random_state=42), param_grid_mlp, cv=5, scoring='roc_auc')  # Инициализация GridSearchCV\n",
    "grid_mlp.fit(X_train, y_train)  # Обучение\n",
    "best_mlp = grid_mlp.best_estimator_  # Получение лучшей модели\n",
    "\n",
    "# Оценка оптимизированных моделей\n",
    "optimized_models = {\n",
    "    \"Optimized Random Forest\": best_rf,\n",
    "    \"Optimized Gradient Boosting\": best_gb,\n",
    "    \"Optimized MLP\": best_mlp\n",
    "}\n",
    "\n",
    "optimized_results = {}  # Словарь для хранения результатов оптимизированных моделей\n",
    "\n",
    "# Цикл по оптимизированным моделям для их оценки\n",
    "for model_name, model in optimized_models.items():\n",
    "    roc_auc, accuracy, precision, recall = evaluate_model(model, X_train, y_train, X_test, y_test)  # Оценка модели\n",
    "    optimized_results[model_name] = {  # Сохранение результатов\n",
    "        \"ROC AUC\": roc_auc,\n",
    "        \"Accuracy\": accuracy,\n",
    "        \"Precision\": precision,\n",
    "        \"Recall\": recall\n",
    "    }\n",
    "\n",
    "# Вывод результатов оптимизированных моделей\n",
    "for model_name, metrics in optimized_results.items():\n",
    "    print(f\"{model_name} метрики:\")  # Заголовок для каждой оптимизированной модели\n",
    "    for metric_name, value in metrics.items():\n",
    "        print(f\"{metric_name}: {value:.2f}\")  # Печать метрик с округлением до двух знаков\n",
    "    print()  # Пустая строка для разделения выводов"
   ]
  },
  {
   "cell_type": "markdown",
   "id": "d2d6eb00-77fd-40dc-a3c5-35c1fe0200c0",
   "metadata": {},
   "source": [
    "## Экспериментируйте\n",
    "Для получения лучшего качества придется поэкспериментировать. Подсказка: попробуйте оптимизировать гиперпараметры модели"
   ]
  }
 ],
 "metadata": {
  "kernelspec": {
   "display_name": "Python 3 (ipykernel)",
   "language": "python",
   "name": "python3"
  },
  "language_info": {
   "codemirror_mode": {
    "name": "ipython",
    "version": 3
   },
   "file_extension": ".py",
   "mimetype": "text/x-python",
   "name": "python",
   "nbconvert_exporter": "python",
   "pygments_lexer": "ipython3",
   "version": "3.11.5"
  }
 },
 "nbformat": 4,
 "nbformat_minor": 5
}
